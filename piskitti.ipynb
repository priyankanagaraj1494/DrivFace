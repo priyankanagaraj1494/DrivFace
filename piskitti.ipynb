{
  "nbformat": 4,
  "nbformat_minor": 0,
  "metadata": {
    "colab": {
      "name": "piskitti.ipynb",
      "version": "0.3.2",
      "provenance": [],
      "include_colab_link": true
    },
    "kernelspec": {
      "name": "python3",
      "display_name": "Python 3"
    },
    "accelerator": "TPU"
  },
  "cells": [
    {
      "cell_type": "markdown",
      "metadata": {
        "id": "view-in-github",
        "colab_type": "text"
      },
      "source": [
        "<a href=\"https://colab.research.google.com/github/priyankanagaraj1494/DrivFace/blob/master/piskitti.ipynb\" target=\"_parent\"><img src=\"https://colab.research.google.com/assets/colab-badge.svg\" alt=\"Open In Colab\"/></a>"
      ]
    },
    {
      "metadata": {
        "id": "Mws9-LwkGUea",
        "colab_type": "code",
        "outputId": "ed430ed3-de76-47c0-958f-af7c1cd5928d",
        "colab": {
          "base_uri": "https://localhost:8080/",
          "height": 118
        }
      },
      "cell_type": "code",
      "source": [
        "!git clone 'https://github.com/priyankanagaraj1494/PIS_kitti.git'"
      ],
      "execution_count": 0,
      "outputs": [
        {
          "output_type": "stream",
          "text": [
            "Cloning into 'PIS_kitti'...\n",
            "remote: Enumerating objects: 43, done.\u001b[K\n",
            "remote: Counting objects:   2% (1/43)   \u001b[K\rremote: Counting objects:   4% (2/43)   \u001b[K\rremote: Counting objects:   6% (3/43)   \u001b[K\rremote: Counting objects:   9% (4/43)   \u001b[K\rremote: Counting objects:  11% (5/43)   \u001b[K\rremote: Counting objects:  13% (6/43)   \u001b[K\rremote: Counting objects:  16% (7/43)   \u001b[K\rremote: Counting objects:  18% (8/43)   \u001b[K\rremote: Counting objects:  20% (9/43)   \u001b[K\rremote: Counting objects:  23% (10/43)   \u001b[K\rremote: Counting objects:  25% (11/43)   \u001b[K\rremote: Counting objects:  27% (12/43)   \u001b[K\rremote: Counting objects:  30% (13/43)   \u001b[K\rremote: Counting objects:  32% (14/43)   \u001b[K\rremote: Counting objects:  34% (15/43)   \u001b[K\rremote: Counting objects:  37% (16/43)   \u001b[K\rremote: Counting objects:  39% (17/43)   \u001b[K\rremote: Counting objects:  41% (18/43)   \u001b[K\rremote: Counting objects:  44% (19/43)   \u001b[K\rremote: Counting objects:  46% (20/43)   \u001b[K\rremote: Counting objects:  48% (21/43)   \u001b[K\rremote: Counting objects:  51% (22/43)   \u001b[K\rremote: Counting objects:  53% (23/43)   \u001b[K\rremote: Counting objects:  55% (24/43)   \u001b[K\rremote: Counting objects:  58% (25/43)   \u001b[K\rremote: Counting objects:  60% (26/43)   \u001b[K\rremote: Counting objects:  62% (27/43)   \u001b[K\rremote: Counting objects:  65% (28/43)   \u001b[K\rremote: Counting objects:  67% (29/43)   \u001b[K\rremote: Counting objects:  69% (30/43)   \u001b[K\rremote: Counting objects:  72% (31/43)   \u001b[K\rremote: Counting objects:  74% (32/43)   \u001b[K\rremote: Counting objects:  76% (33/43)   \u001b[K\rremote: Counting objects:  79% (34/43)   \u001b[K\rremote: Counting objects:  81% (35/43)   \u001b[K\rremote: Counting objects:  83% (36/43)   \u001b[K\rremote: Counting objects:  86% (37/43)   \u001b[K\rremote: Counting objects:  88% (38/43)   \u001b[K\rremote: Counting objects:  90% (39/43)   \u001b[K\rremote: Counting objects:  93% (40/43)   \u001b[K\rremote: Counting objects:  95% (41/43)   \u001b[K\rremote: Counting objects:  97% (42/43)   \u001b[K\rremote: Counting objects: 100% (43/43)   \u001b[K\rremote: Counting objects: 100% (43/43), done.\u001b[K\n",
            "remote: Compressing objects:   3% (1/29)   \u001b[K\rremote: Compressing objects:   6% (2/29)   \u001b[K\rremote: Compressing objects:  10% (3/29)   \u001b[K\rremote: Compressing objects:  13% (4/29)   \u001b[K\rremote: Compressing objects:  17% (5/29)   \u001b[K\rremote: Compressing objects:  20% (6/29)   \u001b[K\rremote: Compressing objects:  24% (7/29)   \u001b[K\rremote: Compressing objects:  27% (8/29)   \u001b[K\rremote: Compressing objects:  31% (9/29)   \u001b[K\rremote: Compressing objects:  34% (10/29)   \u001b[K\rremote: Compressing objects:  37% (11/29)   \u001b[K\rremote: Compressing objects:  41% (12/29)   \u001b[K\rremote: Compressing objects:  44% (13/29)   \u001b[K\rremote: Compressing objects:  48% (14/29)   \u001b[K\rremote: Compressing objects:  51% (15/29)   \u001b[K\rremote: Compressing objects:  55% (16/29)   \u001b[K\rremote: Compressing objects:  58% (17/29)   \u001b[K\rremote: Compressing objects:  62% (18/29)   \u001b[K\rremote: Compressing objects:  65% (19/29)   \u001b[K\rremote: Compressing objects:  68% (20/29)   \u001b[K\rremote: Compressing objects:  72% (21/29)   \u001b[K\rremote: Compressing objects:  75% (22/29)   \u001b[K\rremote: Compressing objects:  79% (23/29)   \u001b[K\rremote: Compressing objects:  82% (24/29)   \u001b[K\rremote: Compressing objects:  86% (25/29)   \u001b[K\rremote: Compressing objects:  89% (26/29)   \u001b[K\rremote: Compressing objects:  93% (27/29)   \u001b[K\rremote: Compressing objects:  96% (28/29)   \u001b[K\rremote: Compressing objects: 100% (29/29)   \u001b[K\rremote: Compressing objects: 100% (29/29), done.\u001b[K\n",
            "remote: Total 43 (delta 13), reused 27 (delta 8), pack-reused 0\u001b[K\n",
            "Unpacking objects:   2% (1/43)   \rUnpacking objects:   4% (2/43)   \rUnpacking objects:   6% (3/43)   \rUnpacking objects:   9% (4/43)   \rUnpacking objects:  11% (5/43)   \rUnpacking objects:  13% (6/43)   \rUnpacking objects:  16% (7/43)   \rUnpacking objects:  18% (8/43)   \rUnpacking objects:  20% (9/43)   \rUnpacking objects:  23% (10/43)   \rUnpacking objects:  25% (11/43)   \rUnpacking objects:  27% (12/43)   \rUnpacking objects:  30% (13/43)   \rUnpacking objects:  32% (14/43)   \rUnpacking objects:  34% (15/43)   \rUnpacking objects:  37% (16/43)   \rUnpacking objects:  39% (17/43)   \rUnpacking objects:  41% (18/43)   \rUnpacking objects:  44% (19/43)   \rUnpacking objects:  46% (20/43)   \rUnpacking objects:  48% (21/43)   \rUnpacking objects:  51% (22/43)   \rUnpacking objects:  53% (23/43)   \rUnpacking objects:  55% (24/43)   \rUnpacking objects:  58% (25/43)   \rUnpacking objects:  60% (26/43)   \rUnpacking objects:  62% (27/43)   \rUnpacking objects:  65% (28/43)   \rUnpacking objects:  67% (29/43)   \rUnpacking objects:  69% (30/43)   \rUnpacking objects:  72% (31/43)   \rUnpacking objects:  74% (32/43)   \rUnpacking objects:  76% (33/43)   \rUnpacking objects:  79% (34/43)   \rUnpacking objects:  81% (35/43)   \rUnpacking objects:  83% (36/43)   \rUnpacking objects:  86% (37/43)   \rUnpacking objects:  88% (38/43)   \rUnpacking objects:  90% (39/43)   \rUnpacking objects:  93% (40/43)   \rUnpacking objects:  95% (41/43)   \rUnpacking objects:  97% (42/43)   \rUnpacking objects: 100% (43/43)   \rUnpacking objects: 100% (43/43), done.\n"
          ],
          "name": "stdout"
        }
      ]
    },
    {
      "metadata": {
        "id": "AZTt6lWpG5GS",
        "colab_type": "code",
        "outputId": "f6997434-8071-4769-8c95-fe867bd3e1f4",
        "colab": {
          "base_uri": "https://localhost:8080/",
          "height": 235
        }
      },
      "cell_type": "code",
      "source": [
        "import os\n",
        "import pprint\n",
        "import tensorflow as tf\n",
        "if 'COLAB_TPU_ADDR' not in os.environ:\n",
        " print('ERROR: Not connected to a TPU runtime; please see the first cell in this notebook for instructions!')\n",
        "else:\n",
        " tpu_address = 'grpc://' + os.environ['COLAB_TPU_ADDR']\n",
        " print ('TPU address is', tpu_address)\n",
        "with tf.Session(tpu_address) as session:\n",
        " devices = session.list_devices()\n",
        " \n",
        " print('TPU devices:')\n",
        " pprint.pprint(devices)"
      ],
      "execution_count": 0,
      "outputs": [
        {
          "output_type": "stream",
          "text": [
            "TPU address is grpc://10.25.219.82:8470\n",
            "TPU devices:\n",
            "[_DeviceAttributes(/job:tpu_worker/replica:0/task:0/device:CPU:0, CPU, -1, 2606408707427230374),\n",
            " _DeviceAttributes(/job:tpu_worker/replica:0/task:0/device:XLA_CPU:0, XLA_CPU, 17179869184, 8366845753233180805),\n",
            " _DeviceAttributes(/job:tpu_worker/replica:0/task:0/device:TPU:0, TPU, 17179869184, 3451324921098360115),\n",
            " _DeviceAttributes(/job:tpu_worker/replica:0/task:0/device:TPU:1, TPU, 17179869184, 2105344199663785178),\n",
            " _DeviceAttributes(/job:tpu_worker/replica:0/task:0/device:TPU:2, TPU, 17179869184, 15098003121178772140),\n",
            " _DeviceAttributes(/job:tpu_worker/replica:0/task:0/device:TPU:3, TPU, 17179869184, 5742772021352503455),\n",
            " _DeviceAttributes(/job:tpu_worker/replica:0/task:0/device:TPU:4, TPU, 17179869184, 15530400326474496599),\n",
            " _DeviceAttributes(/job:tpu_worker/replica:0/task:0/device:TPU:5, TPU, 17179869184, 13486438627569712056),\n",
            " _DeviceAttributes(/job:tpu_worker/replica:0/task:0/device:TPU:6, TPU, 17179869184, 10856511214175497943),\n",
            " _DeviceAttributes(/job:tpu_worker/replica:0/task:0/device:TPU:7, TPU, 17179869184, 18174457549337690550),\n",
            " _DeviceAttributes(/job:tpu_worker/replica:0/task:0/device:TPU_SYSTEM:0, TPU_SYSTEM, 17179869184, 9571008423063131413)]\n"
          ],
          "name": "stdout"
        }
      ]
    },
    {
      "metadata": {
        "id": "soutYzJfHswK",
        "colab_type": "code",
        "colab": {}
      },
      "cell_type": "code",
      "source": [
        "from google.colab import files\n",
        "uploaded = files.upload()"
      ],
      "execution_count": 0,
      "outputs": []
    },
    {
      "metadata": {
        "id": "kCkIzuCwH20o",
        "colab_type": "code",
        "outputId": "381e31fb-084b-47f4-952b-e59e2fada337",
        "colab": {
          "base_uri": "https://localhost:8080/",
          "height": 34
        }
      },
      "cell_type": "code",
      "source": [
        "ls"
      ],
      "execution_count": 0,
      "outputs": [
        {
          "output_type": "stream",
          "text": [
            "\u001b[0m\u001b[01;34mPIS_kitti\u001b[0m/  \u001b[01;34msample_data\u001b[0m/\n"
          ],
          "name": "stdout"
        }
      ]
    },
    {
      "metadata": {
        "id": "WOGhmAHCH8K4",
        "colab_type": "code",
        "outputId": "55cc79a2-0ec8-4609-b774-a337462ddc40",
        "colab": {
          "base_uri": "https://localhost:8080/",
          "height": 34
        }
      },
      "cell_type": "code",
      "source": [
        "cd PIS_kitti\n"
      ],
      "execution_count": 0,
      "outputs": [
        {
          "output_type": "stream",
          "text": [
            "/content/PIS_kitti\n"
          ],
          "name": "stdout"
        }
      ]
    },
    {
      "metadata": {
        "id": "7YE16J4kIKsW",
        "colab_type": "code",
        "outputId": "1a243e57-1b45-41a9-e11d-bf0ccc5d03ea",
        "colab": {
          "base_uri": "https://localhost:8080/",
          "height": 50
        }
      },
      "cell_type": "code",
      "source": [
        "ls"
      ],
      "execution_count": 0,
      "outputs": [
        {
          "output_type": "stream",
          "text": [
            "datadetails.py      eval.py    model.py            README.md\n",
            "download_models.py  helper.py  preprocess_data.py  train.py\n"
          ],
          "name": "stdout"
        }
      ]
    },
    {
      "metadata": {
        "id": "DUizTFeKIP8A",
        "colab_type": "code",
        "outputId": "a73df2ab-8a06-4578-d82f-06eac8d59f5e",
        "colab": {
          "base_uri": "https://localhost:8080/",
          "height": 84
        }
      },
      "cell_type": "code",
      "source": [
        "!git checkout master"
      ],
      "execution_count": 0,
      "outputs": [
        {
          "output_type": "stream",
          "text": [
            "error: Your local changes to the following files would be overwritten by checkout:\n",
            "\t__pycache__/model.cpython-36.pyc\n",
            "Please commit your changes or stash them before you switch branches.\n",
            "Aborting\n"
          ],
          "name": "stdout"
        }
      ]
    },
    {
      "metadata": {
        "id": "NU6Usnx6ITZA",
        "colab_type": "code",
        "colab": {}
      },
      "cell_type": "code",
      "source": [
        "!git fetch\n"
      ],
      "execution_count": 0,
      "outputs": []
    },
    {
      "metadata": {
        "id": "CDXdmD5hIWDX",
        "colab_type": "code",
        "outputId": "49edcb5e-89b6-4110-cf31-fad0e9efadc9",
        "colab": {
          "base_uri": "https://localhost:8080/",
          "height": 67
        }
      },
      "cell_type": "code",
      "source": [
        "!git checkout adarsh"
      ],
      "execution_count": 0,
      "outputs": [
        {
          "output_type": "stream",
          "text": [
            "M\t__pycache__/model.cpython-36.pyc\n",
            "Already on 'adarsh'\n",
            "Your branch is up to date with 'origin/adarsh'.\n"
          ],
          "name": "stdout"
        }
      ]
    },
    {
      "metadata": {
        "id": "AUo2HQn5IY13",
        "colab_type": "code",
        "outputId": "c328b97e-5cb2-4a61-d9b9-9d431ef9d445",
        "colab": {
          "base_uri": "https://localhost:8080/",
          "height": 67
        }
      },
      "cell_type": "code",
      "source": [
        "!git pull origin adarsh"
      ],
      "execution_count": 0,
      "outputs": [
        {
          "output_type": "stream",
          "text": [
            "From https://github.com/priyankanagaraj1494/PIS_kitti\n",
            " * branch            adarsh     -> FETCH_HEAD\n",
            "Already up to date.\n"
          ],
          "name": "stdout"
        }
      ]
    },
    {
      "metadata": {
        "id": "MgOkpVHVId4C",
        "colab_type": "code",
        "outputId": "54ef5b86-018d-465f-f1d9-23398ea58d09",
        "colab": {
          "base_uri": "https://localhost:8080/",
          "height": 50
        }
      },
      "cell_type": "code",
      "source": [
        "!ls"
      ],
      "execution_count": 74,
      "outputs": [
        {
          "output_type": "stream",
          "text": [
            "data\t\t    eval.py   models\t\t  __pycache__\n",
            "download_models.py  model.py  preprocess_data.py  train.py\n"
          ],
          "name": "stdout"
        }
      ]
    },
    {
      "metadata": {
        "id": "iRiqGEqlIkDI",
        "colab_type": "code",
        "colab": {}
      },
      "cell_type": "code",
      "source": [
        "!rm -rf lidar_2d.tgz"
      ],
      "execution_count": 0,
      "outputs": []
    },
    {
      "metadata": {
        "id": "b5v5vTqmIqWM",
        "colab_type": "code",
        "colab": {
          "base_uri": "https://localhost:8080/",
          "height": 34
        },
        "outputId": "b01ea041-d3e9-450d-c45a-3a3ceabd6a43"
      },
      "cell_type": "code",
      "source": [
        "cd PIS_kitti"
      ],
      "execution_count": 71,
      "outputs": [
        {
          "output_type": "stream",
          "text": [
            "/content/PIS_kitti\n"
          ],
          "name": "stdout"
        }
      ]
    },
    {
      "metadata": {
        "id": "4V8gPqQFJDP8",
        "colab_type": "code",
        "colab": {}
      },
      "cell_type": "code",
      "source": [
        "!mv CRN_1024p models"
      ],
      "execution_count": 0,
      "outputs": []
    },
    {
      "metadata": {
        "id": "JZWkbtNIJIwE",
        "colab_type": "code",
        "colab": {}
      },
      "cell_type": "code",
      "source": [
        "!tar -xzvf lidar_2d.tgz"
      ],
      "execution_count": 0,
      "outputs": []
    },
    {
      "metadata": {
        "id": "TsODpC1oJtit",
        "colab_type": "code",
        "colab": {}
      },
      "cell_type": "code",
      "source": [
        "!rm lidar_2d.tgz"
      ],
      "execution_count": 0,
      "outputs": []
    },
    {
      "metadata": {
        "id": "ZRK3BZPOK61-",
        "colab_type": "code",
        "outputId": "7c5a9c46-e847-466b-9c1a-619cd531601d",
        "colab": {
          "base_uri": "https://localhost:8080/",
          "height": 168
        }
      },
      "cell_type": "code",
      "source": [
        "!git status"
      ],
      "execution_count": 0,
      "outputs": [
        {
          "output_type": "stream",
          "text": [
            "On branch adarsh\n",
            "Your branch is up to date with 'origin/adarsh'.\n",
            "\n",
            "Untracked files:\n",
            "  (use \"git add <file>...\" to include in what will be committed)\n",
            "\n",
            "\t\u001b[31mlidar_2d/\u001b[m\n",
            "\n",
            "nothing added to commit but untracked files present (use \"git add\" to track)\n"
          ],
          "name": "stdout"
        }
      ]
    },
    {
      "metadata": {
        "id": "wS7isd2TK8PU",
        "colab_type": "code",
        "colab": {}
      },
      "cell_type": "code",
      "source": [
        "!git branch"
      ],
      "execution_count": 0,
      "outputs": []
    },
    {
      "metadata": {
        "id": "jtw70zmdLAsH",
        "colab_type": "code",
        "outputId": "43b24606-8e5d-43a7-f41d-7f0ace2a1a2f",
        "colab": {
          "base_uri": "https://localhost:8080/",
          "height": 34
        }
      },
      "cell_type": "code",
      "source": [
        "!ls"
      ],
      "execution_count": 0,
      "outputs": [
        {
          "output_type": "stream",
          "text": [
            "eval.py  lidar_2d  model.py  preprocess_data.py  __pycache__  train.py\n"
          ],
          "name": "stdout"
        }
      ]
    },
    {
      "metadata": {
        "id": "z761zjCpLIGY",
        "colab_type": "code",
        "outputId": "89d1c8d6-9c7e-4cc0-ecab-51445c4a0262",
        "colab": {
          "base_uri": "https://localhost:8080/",
          "height": 118
        }
      },
      "cell_type": "code",
      "source": [
        "!python ./preprocess_data.py"
      ],
      "execution_count": 0,
      "outputs": [
        {
          "output_type": "stream",
          "text": [
            "Copying 8678 files to: ./data/train/\n",
            "100% 8678/8678 [04:16<00:00, 33.88it/s]\n",
            "Copying 1085 files to: ./data/train/\n",
            "100% 1085/1085 [00:35<00:00, 30.49it/s]\n",
            "Copying 1085 files to: ./data/train/\n",
            "100% 1085/1085 [00:36<00:00, 29.70it/s]\n"
          ],
          "name": "stdout"
        }
      ]
    },
    {
      "metadata": {
        "id": "I0XWwnANMO8i",
        "colab_type": "code",
        "colab": {}
      },
      "cell_type": "code",
      "source": [
        "!mv ./models/VGG_Model ./"
      ],
      "execution_count": 0,
      "outputs": []
    },
    {
      "metadata": {
        "id": "Vtk4JUQ-NCqm",
        "colab_type": "code",
        "colab": {}
      },
      "cell_type": "code",
      "source": [
        "!python ./model.py"
      ],
      "execution_count": 0,
      "outputs": []
    },
    {
      "metadata": {
        "id": "nFLu_PuHNLbb",
        "colab_type": "code",
        "outputId": "fe354a2f-4b14-4d82-d00a-8699b45c20d3",
        "colab": {
          "base_uri": "https://localhost:8080/",
          "height": 503
        }
      },
      "cell_type": "code",
      "source": [
        "!python ./train.py"
      ],
      "execution_count": 0,
      "outputs": [
        {
          "output_type": "stream",
          "text": [
            "2019-03-19 10:22:48.645743: I tensorflow/core/platform/profile_utils/cpu_utils.cc:94] CPU Frequency: 2300000000 Hz\n",
            "2019-03-19 10:22:48.646041: I tensorflow/compiler/xla/service/service.cc:150] XLA service 0x2187e40 executing computations on platform Host. Devices:\n",
            "2019-03-19 10:22:48.646082: I tensorflow/compiler/xla/service/service.cc:158]   StreamExecutor device (0): <undefined>, <undefined>\n",
            "WARNING:tensorflow:From /usr/local/lib/python3.6/dist-packages/tensorflow/python/framework/op_def_library.py:263: colocate_with (from tensorflow.python.framework.ops) is deprecated and will be removed in a future version.\n",
            "Instructions for updating:\n",
            "Colocations handled automatically by placer.\n",
            "WARNING:tensorflow:From /usr/local/lib/python3.6/dist-packages/tensorflow/python/ops/math_ops.py:3066: to_int32 (from tensorflow.python.ops.math_ops) is deprecated and will be removed in a future version.\n",
            "Instructions for updating:\n",
            "Use tf.cast instead.\n",
            "WARNING:tensorflow:From /usr/local/lib/python3.6/dist-packages/tensorflow/python/ops/math_grad.py:102: div (from tensorflow.python.ops.math_ops) is deprecated and will be removed in a future version.\n",
            "Instructions for updating:\n",
            "Deprecated in favor of operator or tf.math.divide.\n",
            "Epoch: 0\n",
            "tcmalloc: large alloc 2718138368 bytes == 0x12fe2a000 @  0x7f3fffa441e7 0x7f3fe5ac13e5 0x7f3fe5b31f8e 0x7f3fe5d94fb8 0x7f3fe5db5526 0x7f3fe5db5989 0x7f3fe5db6cc1 0x7f3fe047d99d 0x7f3fe0470da5 0x7f3fe04f5fb7 0x7f3fe04f2be8 0x7f3ffe32657f 0x7f3fff4086db 0x7f3fff74188f\n",
            "2019-03-19 10:24:34.091714: W tensorflow/core/framework/allocator.cc:124] Allocation of 2415919104 exceeds 10% of system memory.\n",
            "2019-03-19 10:24:34.091714: W tensorflow/core/framework/allocator.cc:124] Allocation of 2415919104 exceeds 10% of system memory.\n",
            "tcmalloc: large alloc 2415919104 bytes == 0x11b0aa000 @  0x7f3fffa26b6b 0x7f3fffa46379 0x7f3fe05255d7 0x7f3fe018a6df 0x7f3fe024262b 0x7f3fe02108b1 0x7f3fe0211185 0x7f3fe5c2432f 0x7f3fe047d99d 0x7f3fe0470da5 0x7f3fe04f5fb7 0x7f3fe04f2be8 0x7f3ffe32657f 0x7f3fff4086db 0x7f3fff74188f\n",
            "tcmalloc: large alloc 2415919104 bytes == 0x1d6f7a000 @  0x7f3fffa26b6b 0x7f3fffa46379 0x7f3fe05255d7 0x7f3fe018a6df 0x7f3fe024262b 0x7f3fe02108b1 0x7f3fe0211185 0x7f3fe5baef59 0x7f3fe047d99d 0x7f3fe0470da5 0x7f3fe04f5fb7 0x7f3fe04f2be8 0x7f3ffe32657f 0x7f3fff4086db 0x7f3fff74188f\n",
            "2019-03-19 10:24:59.714927: W tensorflow/core/framework/allocator.cc:124] Allocation of 2420637696 exceeds 10% of system memory.\n",
            "2019-03-19 10:24:59.714927: W tensorflow/core/framework/allocator.cc:124] Allocation of 2420637696 exceeds 10% of system memory.\n",
            "tcmalloc: large alloc 2420637696 bytes == 0xbb0aa000 @  0x7f3fffa26b6b 0x7f3fffa46379 0x7f3fe05255d7 0x7f3fe018a6df 0x7f3fe024262b 0x7f3fe02108b1 0x7f3fe0211185 0x7f3fe5baef59 0x7f3fe047d99d 0x7f3fe0470da5 0x7f3fe04f5fb7 0x7f3fe04f2be8 0x7f3ffe32657f 0x7f3fff4086db 0x7f3fff74188f\n",
            "tcmalloc: large alloc 2420637696 bytes == 0x206f7a000 @  0x7f3fffa26b6b 0x7f3fffa46379 0x7f3fe05255d7 0x7f3fe018a6df 0x7f3fe024262b 0x7f3fe02108b1 0x7f3fe0211185 0x7f3fe5c2432f 0x7f3fe047d99d 0x7f3fe0470da5 0x7f3fe04f5fb7 0x7f3fe04f2be8 0x7f3ffe32657f 0x7f3fff4086db 0x7f3fff74188f\n",
            "2019-03-19 10:25:24.340282: W tensorflow/core/framework/allocator.cc:124] Allocation of 603979776 exceeds 10% of system memory.\n",
            "tcmalloc: large alloc 2718138368 bytes == 0x637d2000 @  0x7f3fffa441e7 0x7f3fe5ac13e5 0x7f3fe5b31f8e 0x7f3fe5d94fb8 0x7f3fe5db5526 0x7f3fe5db5989 0x7f3fe5db6cc1 0x7f3fe047d99d 0x7f3fe0470da5 0x7f3fe04f5fb7 0x7f3fe04f2be8 0x7f3ffe32657f 0x7f3fff4086db 0x7f3fff74188f\n",
            "tcmalloc: large alloc 2415919104 bytes == 0x637d2000 @  0x7f3fffa26b6b 0x7f3fffa46379 0x7f3fe05255d7 0x7f3fe018a6df 0x7f3fe024262b 0x7f3fe02108b1 0x7f3fe0211185 0x7f3fe5c2432f 0x7f3fe047d99d 0x7f3fe0470da5 0x7f3fe04f5fb7 0x7f3fe04f2be8 0x7f3ffe32657f 0x7f3fff4086db 0x7f3fff74188f\n",
            "tcmalloc: large alloc 2718138368 bytes == 0x637d2000 @  0x7f3fffa441e7 0x7f3fe5ac13e5 0x7f3fe5b31f8e 0x7f3fe5d94fb8 0x7f3fe5db5526 0x7f3fe5db5989 0x7f3fe5db6cc1 0x7f3fe047d99d 0x7f3fe0470da5 0x7f3fe04f5fb7 0x7f3fe04f2be8 0x7f3ffe32657f 0x7f3fff4086db 0x7f3fff74188f\n"
          ],
          "name": "stdout"
        }
      ]
    }
  ]
}